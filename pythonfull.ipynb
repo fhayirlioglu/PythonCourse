{
  "cells": [
    {
      "cell_type": "code",
      "execution_count": null,
      "metadata": {
        "id": "7HJfb1hJoDni"
      },
      "outputs": [],
      "source": [
        "# T3 Vakfı Su Altı Eğitimleri Python Kursu"
      ]
    },
    {
      "cell_type": "markdown",
      "metadata": {
        "id": "MvHWH_kQq7qy"
      },
      "source": [
        "----------------------------------------------------------------------------------------------------------\n",
        "**DEĞİŞKENLER**\n",
        "----------------------------------------------------------------------------------------------------------"
      ]
    },
    {
      "cell_type": "code",
      "execution_count": null,
      "metadata": {
        "id": "e-ici1H8got0"
      },
      "outputs": [],
      "source": [
        "ver_int = 59\n",
        "type(ver_int)"
      ]
    },
    {
      "cell_type": "code",
      "execution_count": null,
      "metadata": {
        "id": "ROUfPnnKk8JZ"
      },
      "outputs": [],
      "source": [
        "ver_float = 10.6\n",
        "type(ver_float)"
      ]
    },
    {
      "cell_type": "code",
      "execution_count": null,
      "metadata": {
        "id": "mAkSy5o6lPqn"
      },
      "outputs": [],
      "source": [
        "ver_str = \"Hello World!\"\n",
        "type(ver_str)"
      ]
    },
    {
      "cell_type": "code",
      "execution_count": null,
      "metadata": {
        "id": "gnPBzBFrmzj2"
      },
      "outputs": [],
      "source": [
        "ver_boolen = True\n",
        "type(ver_boolen)"
      ]
    },
    {
      "cell_type": "markdown",
      "metadata": {
        "id": "bPZUo6kqrAQv"
      },
      "source": [
        "----------------------------------------------------------------------------------------------------------\n",
        "**LİSTE TİPLERİ**\n",
        "----------------------------------------------------------------------------------------------------------"
      ]
    },
    {
      "cell_type": "code",
      "execution_count": null,
      "metadata": {
        "id": "4SO5Ed4TrDBR"
      },
      "outputs": [],
      "source": [
        "list_ex = [\"Deneyap\",\"T3\",\"Su Altı\",\"Eğitimi\"]\n",
        "type(list_ex)"
      ]
    },
    {
      "cell_type": "code",
      "execution_count": null,
      "metadata": {
        "id": "pa3xQsjlqT-F"
      },
      "outputs": [],
      "source": [
        "set_ex = {\"Deneyap\",\"T3\",\"Su Altı\",\"Eğitimi\"}\n",
        "type(set_ex)"
      ]
    },
    {
      "cell_type": "code",
      "execution_count": null,
      "metadata": {
        "id": "dw30faBnqYPR"
      },
      "outputs": [],
      "source": [
        "tuple_ex = (\"Deneyap\",\"T3\",\"Su Altı\",\"Eğitimi\")\n",
        "type(tuple_ex)"
      ]
    },
    {
      "cell_type": "code",
      "execution_count": null,
      "metadata": {
        "id": "FaJwN1UsqjMe"
      },
      "outputs": [],
      "source": [
        "dict_ex = {\n",
        "    \"Anahtar\":\"Kilit\",\n",
        "    \"T3\":\"Vakfı\",\n",
        "    \"Su Altı\":\"Eğitimi\",\n",
        "    \"Kiraz\":\"Meyve\"\n",
        "    \"Hande\":\"Yener\"\n",
        "}\n",
        "type(dict_ex)"
      ]
    },
    {
      "cell_type": "markdown",
      "metadata": {
        "id": "F2Wlfk2GhkCA"
      },
      "source": [
        "----------------------------------------------------------------------------------------------------------\n",
        "**LİST ÖRNEKLERİ**\n",
        "----------------------------------------------------------------------------------------------------------"
      ]
    },
    {
      "cell_type": "code",
      "execution_count": null,
      "metadata": {
        "id": "QrLS4p3Uhq5e"
      },
      "outputs": [],
      "source": [
        "#Bazı liste örnekleri;\n",
        "list1 = [1,5,2,7,3]\n",
        "list2 = [1,2,\"a\",\"d\",\"c\",0]\n",
        "list3 = [[1,2], \"a\", [2]]\n",
        "list4 = [\"elma\",\"armut\"]"
      ]
    },
    {
      "cell_type": "code",
      "execution_count": null,
      "metadata": {
        "id": "x4Aby6A3p4fF"
      },
      "outputs": [],
      "source": [
        "#Elemanları almak\n",
        "print(list1[5]) #ya negatif olursa?"
      ]
    },
    {
      "cell_type": "code",
      "execution_count": null,
      "metadata": {
        "id": "h7EwolKFmTgL"
      },
      "outputs": [],
      "source": [
        "\n",
        "#Sıralama yapmak\n",
        "list1.sort() #reverse=True eklersem ne olur?\n",
        "print(list1)"
      ]
    },
    {
      "cell_type": "code",
      "execution_count": null,
      "metadata": {
        "id": "KEcPY5SVmXdg"
      },
      "outputs": [],
      "source": [
        "#Değeri değiştirmek\n",
        "list1[3] = 9\n",
        "print(list1) #sonuç ne verir?"
      ]
    },
    {
      "cell_type": "code",
      "execution_count": null,
      "metadata": {
        "id": "IVTqq_45mY6_"
      },
      "outputs": [],
      "source": [
        "#Bir liste kaç elemanlıdır?\n",
        "liste_uzunluğu = len(list1)\n",
        "print(liste_uzunluğu)"
      ]
    },
    {
      "cell_type": "code",
      "execution_count": null,
      "metadata": {
        "id": "985CyHdvmcC2"
      },
      "outputs": [],
      "source": [
        "#Liste bölme (start:end:step)\n",
        "print(list1[0:4])\n",
        "print(list1[3:1:-1]) #Ya bazı yerler silinirse?"
      ]
    },
    {
      "cell_type": "code",
      "execution_count": null,
      "metadata": {
        "id": "deG7rcCtoGXg"
      },
      "outputs": [],
      "source": [
        "#Eleman ekleme\n",
        "list1 = list1 + [0,2]\n",
        "print(list1)\n",
        "list1.append(5)\n",
        "print(list1)"
      ]
    },
    {
      "cell_type": "code",
      "execution_count": null,
      "metadata": {
        "id": "hf2gu26npjwe"
      },
      "outputs": [],
      "source": [
        "#Eleman silme\n",
        "del list1[2]\n",
        "print(list1)"
      ]
    },
    {
      "cell_type": "code",
      "execution_count": null,
      "metadata": {
        "id": "KMugzwdpwfQk"
      },
      "outputs": [],
      "source": [
        "#Listeyi temizleme\n",
        "print(list1)\n",
        "list1.clear()\n",
        "print(list1)"
      ]
    },
    {
      "cell_type": "markdown",
      "metadata": {
        "id": "y6n8ABk3qA2j"
      },
      "source": [
        "----------------------------------------------------------------------------------------------------------\n",
        "**DİCTİONARY ÖRNEKLERİ**\n",
        "----------------------------------------------------------------------------------------------------------"
      ]
    },
    {
      "cell_type": "code",
      "execution_count": null,
      "metadata": {
        "id": "_Jr0a-bPqAGd"
      },
      "outputs": [],
      "source": [
        "dict1 = {\n",
        "    \"Hande\":\"Yener\",\n",
        "    \"Murat\":\"Boz\",\n",
        "    \"Demet\":\"Akalın\"\n",
        "}\n",
        "dict2 = {\n",
        "    \"İstanbul\":34,\n",
        "    \"Konya\":42,\n",
        "    \"Artvin\": 8\n",
        "}\n",
        "\n",
        "dict3 = {\n",
        "    \"Tarık\":\n",
        "    {\n",
        "        \"Yaş\":20,\n",
        "        \"Meslek\":\"Bilgisayar Mühendisi\"\n",
        "    }\n",
        "}\n",
        "\n",
        "dict4 = {\n",
        "    \"Rize\":\n",
        "    {\n",
        "        \"Nufüs_milyon\": 0.331,\n",
        "        \"Rakım_metre\":6\n",
        "    },\n",
        "    \"Erzurum\":\n",
        "    {\n",
        "        \"Nufüs_milyon\": 0.767,\n",
        "        \"Rakım_metre\":1890\n",
        "    },\n",
        "    \"Erciyes\":3917,\n",
        "    \"Kızılkaya_toroslar\":3767\n",
        "}"
      ]
    },
    {
      "cell_type": "code",
      "execution_count": null,
      "metadata": {
        "id": "V2k8jmPNqcsz",
        "outputId": "2f29ed9f-310b-4cfe-8249-6db92e772938",
        "colab": {
          "base_uri": "https://localhost:8080/"
        }
      },
      "outputs": [
        {
          "output_type": "stream",
          "name": "stdout",
          "text": [
            "Yener\n"
          ]
        }
      ],
      "source": [
        "#Elemanları almak\n",
        "print(dict1[\"Hande\"])"
      ]
    },
    {
      "cell_type": "code",
      "execution_count": null,
      "metadata": {
        "id": "jzydl7sFvgst"
      },
      "outputs": [],
      "source": [
        "#Değeri değiştirmek\n",
        "dict2[\"Artvin\"] = 59\n",
        "print(dict2)"
      ]
    },
    {
      "cell_type": "code",
      "execution_count": null,
      "metadata": {
        "id": "9gdyuZ18v5CA"
      },
      "outputs": [],
      "source": [
        "#Eleman ekleme\n",
        "dict2[\"Tekirdağ\"] = 59\n",
        "print(dict2)"
      ]
    },
    {
      "cell_type": "code",
      "execution_count": null,
      "metadata": {
        "id": "RIICbS3YwZDh"
      },
      "outputs": [],
      "source": [
        "#Eleman silme\n",
        "silineninDegeri = dict2.pop(\"Artvin\")\n",
        "print(dict2)\n",
        "print(silineninDegeri)\n",
        "\n",
        "del dict2[\"Tekirdağ\"]\n",
        "print(dict2)\n"
      ]
    },
    {
      "cell_type": "markdown",
      "metadata": {
        "id": "d7D-oPf87A1M"
      },
      "source": [
        "----------------------------------------------------------------------------------------------------------\n",
        "**MATEMATİKSEL OPARATÖRLER**\n",
        "----------------------------------------------------------------------------------------------------------"
      ]
    },
    {
      "cell_type": "code",
      "execution_count": null,
      "metadata": {
        "id": "EL5TEsHV7t_8"
      },
      "outputs": [],
      "source": [
        "a = 10\n",
        "b = 4"
      ]
    },
    {
      "cell_type": "code",
      "execution_count": null,
      "metadata": {
        "id": "a2NXuIPD8D8-"
      },
      "outputs": [],
      "source": [
        "sonuc = a + b\n",
        "print(sonuc)"
      ]
    },
    {
      "cell_type": "code",
      "execution_count": null,
      "metadata": {
        "id": "_3wWhn668IgA"
      },
      "outputs": [],
      "source": [
        "sonuc = a - b\n",
        "print(sonuc)"
      ]
    },
    {
      "cell_type": "code",
      "execution_count": null,
      "metadata": {
        "id": "RubiK1qt8L1d"
      },
      "outputs": [],
      "source": [
        "sonuc = a * b\n",
        "print(sonuc)"
      ]
    },
    {
      "cell_type": "code",
      "execution_count": null,
      "metadata": {
        "id": "gaTWyAb58O4L"
      },
      "outputs": [],
      "source": [
        "sonuc = a / b\n",
        "print(sonuc)"
      ]
    },
    {
      "cell_type": "code",
      "execution_count": null,
      "metadata": {
        "id": "XSQ_b3RW8QiB"
      },
      "outputs": [],
      "source": [
        "sonuc = a % b\n",
        "print(sonuc)"
      ]
    },
    {
      "cell_type": "code",
      "execution_count": null,
      "metadata": {
        "id": "BLw5e2Ql8SGZ"
      },
      "outputs": [],
      "source": [
        "sonuc = a // b\n",
        "print(sonuc)"
      ]
    },
    {
      "cell_type": "code",
      "execution_count": null,
      "metadata": {
        "id": "e3YLKZVBBaFS"
      },
      "outputs": [],
      "source": [
        "sonuc = a ** b\n",
        "print(sonuc)"
      ]
    },
    {
      "cell_type": "code",
      "execution_count": null,
      "metadata": {
        "id": "vVqna5UJAcUh"
      },
      "outputs": [],
      "source": [
        "#eğer sayıya bir sayı üzerinde işlem yapacaksak(ekleme gibi) bunun iki yolu:\n",
        "a = 10\n",
        "a = a + b\n",
        "print(a)\n",
        "\n",
        "a = 10\n",
        "a += b\n",
        "print(a)"
      ]
    },
    {
      "cell_type": "markdown",
      "metadata": {
        "id": "aqST9LNs_lra"
      },
      "source": [
        "----------------------------------------------------------------------------------------------------------\n",
        "**KARŞILAŞTIRMA OPARATÖRLERİ**\n",
        "----------------------------------------------------------------------------------------------------------"
      ]
    },
    {
      "cell_type": "code",
      "execution_count": null,
      "metadata": {
        "id": "tyclNk52_lrb"
      },
      "outputs": [],
      "source": [
        "a = 10\n",
        "b = 3\n",
        "c = 5\n",
        "d = 5"
      ]
    },
    {
      "cell_type": "code",
      "execution_count": null,
      "metadata": {
        "id": "aLQfFqVO_lrb"
      },
      "outputs": [],
      "source": [
        "sonuc1 = a > b\n",
        "sonuc2 = c > d\n",
        "print(sonuc1)\n",
        "print(sonuc2)"
      ]
    },
    {
      "cell_type": "code",
      "execution_count": null,
      "metadata": {
        "id": "QZGCheEG_lrb"
      },
      "outputs": [],
      "source": [
        "sonuc1 = a < b\n",
        "sonuc2 = c < d\n",
        "print(sonuc1)\n",
        "print(sonuc2)"
      ]
    },
    {
      "cell_type": "code",
      "execution_count": null,
      "metadata": {
        "id": "FLJJj9kX_lrc"
      },
      "outputs": [],
      "source": [
        "sonuc1 = a >= b\n",
        "sonuc2 = c >= d\n",
        "print(sonuc1)\n",
        "print(sonuc2)"
      ]
    },
    {
      "cell_type": "code",
      "execution_count": null,
      "metadata": {
        "id": "L5n1eNe7ASM_"
      },
      "outputs": [],
      "source": [
        "sonuc1 = a <= b\n",
        "sonuc2 = c <= d\n",
        "print(sonuc1)\n",
        "print(sonuc2)"
      ]
    },
    {
      "cell_type": "code",
      "execution_count": null,
      "metadata": {
        "id": "przqPsvRASM_"
      },
      "outputs": [],
      "source": [
        "sonuc1 = a == b\n",
        "sonuc2 = c > d\n",
        "print(sonuc1)\n",
        "print(sonuc2)"
      ]
    },
    {
      "cell_type": "code",
      "execution_count": null,
      "metadata": {
        "id": "kRi3XLyqASNA"
      },
      "outputs": [],
      "source": [
        "sonuc1 = a != b\n",
        "sonuc2 = c != d\n",
        "print(sonuc1)\n",
        "print(sonuc2)"
      ]
    },
    {
      "cell_type": "markdown",
      "metadata": {
        "id": "G64G9j3dASMc"
      },
      "source": [
        "----------------------------------------------------------------------------------------------------------\n",
        "**MANTIK OPARATÖRLERİ**\n",
        "----------------------------------------------------------------------------------------------------------"
      ]
    },
    {
      "cell_type": "code",
      "execution_count": null,
      "metadata": {
        "id": "fAmhF-JMASM6"
      },
      "outputs": [],
      "source": [
        "a = True\n",
        "b = False"
      ]
    },
    {
      "cell_type": "code",
      "execution_count": null,
      "metadata": {
        "id": "ZIja4DiaASM8"
      },
      "outputs": [],
      "source": [
        "sonuc = a and b\n",
        "print(sonuc)"
      ]
    },
    {
      "cell_type": "code",
      "execution_count": null,
      "metadata": {
        "id": "caeRZcJYASM9"
      },
      "outputs": [],
      "source": [
        "sonuc = a or b\n",
        "print(sonuc)"
      ]
    },
    {
      "cell_type": "code",
      "execution_count": null,
      "metadata": {
        "id": "q8pYrkGkASM-"
      },
      "outputs": [],
      "source": [
        "sonuc1 = not a\n",
        "sonuc2 = not b\n",
        "print(sonuc1)\n",
        "print(sonuc2)"
      ]
    },
    {
      "cell_type": "markdown",
      "metadata": {
        "id": "90D_3IrNGjuN"
      },
      "source": [
        "----------------------------------------------------------------------------------------------------------\n",
        "**KOŞULLU İFADELER**\n",
        "----------------------------------------------------------------------------------------------------------"
      ]
    },
    {
      "cell_type": "code",
      "execution_count": null,
      "metadata": {
        "id": "hqD4B9yPHtlH"
      },
      "outputs": [],
      "source": [
        "bool_a = True\n",
        "bool_b = False\n",
        "int_a = 5\n",
        "int_b = 3"
      ]
    },
    {
      "cell_type": "code",
      "execution_count": null,
      "metadata": {
        "id": "HnLs1mL8H6si"
      },
      "outputs": [],
      "source": [
        "if(bool_a):\n",
        "  print(\"bool_a için her şey yolunda\")\n",
        "if(bool_b):\n",
        "  print(\"bool_b için her şey yolunda\")\n"
      ]
    },
    {
      "cell_type": "code",
      "execution_count": null,
      "metadata": {
        "id": "yVBYlZcGIP0P"
      },
      "outputs": [],
      "source": [
        "if(int_a > int_b):\n",
        "  print(\"int_a, int_b'den büyüktür\")\n",
        "if(int_a < int_b):\n",
        "  print(\"int_b, int_a'dan büyüktür\")"
      ]
    },
    {
      "cell_type": "code",
      "execution_count": null,
      "metadata": {
        "id": "psi6B337IgHO"
      },
      "outputs": [],
      "source": [
        "if(int_a <= int_b):\n",
        "  print(\"int_a, int_b'den küçük veya eşit\")\n",
        "else:\n",
        "  print(\"int_a, int_b'den **********\") #Yıldızlar yerine ne gelmeli?"
      ]
    },
    {
      "cell_type": "code",
      "execution_count": null,
      "metadata": {
        "id": "R2qIh_LZI3wa"
      },
      "outputs": [],
      "source": [
        "#Ya birden fazla duruma bakmak istersek?\n",
        "int_a = 5\n",
        "int_b = 5\n",
        "\n",
        "if(int_a > int_b):\n",
        "  print(\"int_a, int_b'den büyüktür\")\n",
        "elif(int_a < int_b):\n",
        "  print(\"int_b, int_a'dan büyüktür\")\n",
        "else:\n",
        "  print(\"int_a ve int_b birbirine eşit!\")"
      ]
    },
    {
      "cell_type": "code",
      "execution_count": null,
      "metadata": {
        "id": "zrIIRUwWJhGT"
      },
      "outputs": [],
      "source": [
        "#ufak bir elif örneği daha\n",
        "int_a = 6\n",
        "\n",
        "if(int_a >= 5):\n",
        "  print(\"int_a, 5'ten büyük\")\n",
        "elif(int_a >= 3):\n",
        "  print(\"int_a, [3,5) aralığında\")\n",
        "else:\n",
        "  print(\"int_a, 3'ten küçük\")\n",
        "\n"
      ]
    },
    {
      "cell_type": "code",
      "execution_count": null,
      "metadata": {
        "id": "FR_CGKyEKGvz"
      },
      "outputs": [],
      "source": [
        "#elif kullanmasaydık ne olurdu...\n",
        "\n",
        "int_a = 6\n",
        "\n",
        "if(int_a >= 5):\n",
        "  print(\"int_a, 5'ten büyük\")\n",
        "if(int_a >= 3):\n",
        "  print(\"int_a, [3,5) aralığında\")\n",
        "else:\n",
        "  print(\"int_a, 3'ten küçük\")\n",
        "\n"
      ]
    },
    {
      "cell_type": "code",
      "execution_count": null,
      "metadata": {
        "id": "Nil4EZQuK-h-"
      },
      "outputs": [],
      "source": [
        "#Koşullarımız daha karmaşık olabilir\n",
        "int_a = 3\n",
        "int_b = 9\n",
        "bool_a = True\n",
        "bool_b = False\n",
        "\n",
        "if(((int_a*int_b) >= 25) and (bool_a or bool_b)):\n",
        "  print(\"her şey yolunda\")\n",
        "elif((int_a*int_b) >= 25):\n",
        "  print(\"ilk koşul doğru, ikinci koşul yanlış\")\n",
        "elif(bool_a or bool_b):\n",
        "  print(\"ikinci koşul doğru, ilk koşul yanlış\")\n",
        "else:\n",
        "  print(\"Başaramadık abi..\")"
      ]
    },
    {
      "cell_type": "markdown",
      "metadata": {
        "id": "_Y5rHlGm4-yx"
      },
      "source": [
        "----------------------------------------------------------------------------------------------------------\n",
        "**DÖNGÜLER**\n",
        "----------------------------------------------------------------------------------------------------------"
      ]
    },
    {
      "cell_type": "code",
      "execution_count": null,
      "metadata": {
        "id": "aHYUUohV4OKM"
      },
      "outputs": [],
      "source": [
        "# For bizim oluşturduğumuz ve uzunluğu belirli olan objeler üzerinden istenilen sayıda tekrar yapılmasını sağlar\n",
        "\n",
        "lst = [1, 2, 3, 4, 10, \"masa\", \"kalem\", 5.9]\n",
        "calısmasayısı = 0\n",
        "\n",
        "for c in lst:\n",
        "    print(c)\n",
        "    calısmasayısı += 1\n",
        "\n",
        "print(\"-----------\")\n",
        "print(calısmasayısı)"
      ]
    },
    {
      "cell_type": "code",
      "execution_count": null,
      "metadata": {
        "id": "SkjFkeVb5rgS"
      },
      "outputs": [],
      "source": [
        "# range() fonksiyonumuz pythonun bize sunduğu ve 0 dan başlayarak verilen sayıya kadar\n",
        "# (sayı dahil değil) bir liste oluşturup bize verir bunu kullanarak çok basit bi şekilde istediğimiz kadar döngüyü çalıştırmamızı sağlar\n",
        "for i in range(5):\n",
        "    print(i)"
      ]
    },
    {
      "cell_type": "code",
      "execution_count": null,
      "metadata": {
        "id": "EiQ3yh4o4_OZ"
      },
      "outputs": [],
      "source": [
        "# enumurate() bize verilen listedeki elemanların kendileriyle birlikte o elemanların liste içindeki indexlerini almamızı sağlar\n",
        "lst = [1, 2, 3, \"Pınar\", 5.7]\n",
        "for i,c in enumerate(lst):\n",
        "    print(i,c)"
      ]
    },
    {
      "cell_type": "code",
      "execution_count": null,
      "metadata": {
        "id": "nutFj_0Z5L0O"
      },
      "outputs": [],
      "source": [
        "# işe yarar bir örnek\n",
        "tekler = []\n",
        "for i in range(20):\n",
        "    if i % 2 == 1:\n",
        "        tekler.append(i)\n",
        "print(tekler)"
      ]
    },
    {
      "cell_type": "code",
      "execution_count": null,
      "metadata": {
        "id": "LWL-r9Q57PMW"
      },
      "outputs": [],
      "source": [
        "# while ise bize verilen objenin uzunluğu kadar değil bize verilen koşul sağlanmayana kadar döngümüzü kullanmamızı sağlar\n",
        "i = 10\n",
        "while i > -1:\n",
        "    i -= 1\n",
        "    print(i)"
      ]
    },
    {
      "cell_type": "code",
      "execution_count": null,
      "metadata": {
        "id": "AbItG6Li7m1-"
      },
      "outputs": [],
      "source": [
        "# forla yaptığımız tekler örneğinin çiftler halini while döngüsü ile yapalım\n",
        "i = 20\n",
        "çiftler = []\n",
        "while i >= 0:\n",
        "    if i % 2 == 0:\n",
        "        çiftler.append(i)\n",
        "    i -= 1\n",
        "print(çiftler)"
      ]
    },
    {
      "cell_type": "markdown",
      "metadata": {
        "id": "HKuNuBicTUuv"
      },
      "source": [
        "----------------------------------------------------------------------------------------------------------\n",
        "**FONKSİYONLAR**\n",
        "----------------------------------------------------------------------------------------------------------"
      ]
    },
    {
      "cell_type": "code",
      "execution_count": 3,
      "metadata": {
        "id": "XIRmS2fA9VJa",
        "colab": {
          "base_uri": "https://localhost:8080/"
        },
        "outputId": "211b52e9-a4c7-414a-8c79-6b0a7e796347"
      },
      "outputs": [
        {
          "output_type": "stream",
          "name": "stdout",
          "text": [
            "hello\n",
            "world\n"
          ]
        }
      ],
      "source": [
        "def say_hello():\n",
        "  print(\"hello\")\n",
        "  print(\"world\")\n",
        "\n",
        "say_hello()"
      ]
    },
    {
      "cell_type": "code",
      "execution_count": 4,
      "metadata": {
        "id": "6SSg_N1x-W0a",
        "outputId": "2275efb4-fec8-4eae-ead6-4adab806448c",
        "colab": {
          "base_uri": "https://localhost:8080/"
        }
      },
      "outputs": [
        {
          "output_type": "stream",
          "name": "stdout",
          "text": [
            "*******  Merhaba  *******\n"
          ]
        }
      ],
      "source": [
        "def süslü_print(yazı):\n",
        "  print(\"*******  \" + yazı + \"  *******\")\n",
        "\n",
        "\n",
        "süslü_print(\"Merhaba\")\n"
      ]
    },
    {
      "cell_type": "code",
      "execution_count": 5,
      "metadata": {
        "id": "_3wLI4Q9_zMJ",
        "colab": {
          "base_uri": "https://localhost:8080/"
        },
        "outputId": "f95d8371-d1ff-42c5-ccc5-fe9a58a026e8"
      },
      "outputs": [
        {
          "output_type": "stream",
          "name": "stdout",
          "text": [
            "101\n"
          ]
        }
      ],
      "source": [
        "def toplama_fonksiyonu(ilk_sayı, ikinci_sayı):\n",
        "  return ilk_sayı + ikinci_sayı\n",
        "\n",
        "sayı1 = 59\n",
        "sayı2 = 42\n",
        "\n",
        "toplam = toplama_fonksiyonu(sayı1, sayı2)\n",
        "print(toplam)"
      ]
    },
    {
      "cell_type": "code",
      "execution_count": 6,
      "metadata": {
        "id": "ksbV-52ZBe-F",
        "colab": {
          "base_uri": "https://localhost:8080/"
        },
        "outputId": "f3058e78-5764-4e44-a9ff-bb8bff8f3f6f"
      },
      "outputs": [
        {
          "output_type": "stream",
          "name": "stdout",
          "text": [
            "[50]\n"
          ]
        }
      ],
      "source": [
        "# örnek\n",
        "\n",
        "def liste_x_e_bölünen_bulucu(liste, x):\n",
        "  sayılar = []\n",
        "  for sayı in liste:\n",
        "    if x != 0:\n",
        "      if sayı % x == 0:\n",
        "        sayılar.append(sayı)\n",
        "  return sayılar\n",
        "\n",
        "\n",
        "sayılar_listesi = [2, 50, 69, 12, 49]\n",
        "bölen = 10\n",
        "\n",
        "bölünenler = liste_x_e_bölünen_bulucu(sayılar_listesi, bölen)\n",
        "print(bölünenler)"
      ]
    },
    {
      "cell_type": "code",
      "execution_count": 7,
      "metadata": {
        "id": "BVGjXUBYD1vq",
        "colab": {
          "base_uri": "https://localhost:8080/"
        },
        "outputId": "09144637-3d20-47ec-9057-59a21ec4ae1e"
      },
      "outputs": [
        {
          "output_type": "stream",
          "name": "stdout",
          "text": [
            "5\n",
            "10\n"
          ]
        }
      ],
      "source": [
        "# tek değer girdiğimizde kodumuzda hata çıkmasın bilgisayar bize sinirlenmesin diye\n",
        "# sonucu etkilemeyecek varsayılan bir değer atıyoruz\n",
        "# bu durumda toplama yaptığımız için aslında etkisiz elemanımız 0\n",
        "def toplama_fonksiyonu(ilk_sayı = 0, ikinci_sayı = 0):\n",
        "  return ilk_sayı + ikinci_sayı\n",
        "\n",
        "toplam1 = toplama_fonksiyonu(5)\n",
        "print(toplam1)\n",
        "\n",
        "toplam2 = toplama_fonksiyonu(ikinci_sayı=10)\n",
        "print(toplam2)"
      ]
    },
    {
      "cell_type": "code",
      "execution_count": 8,
      "metadata": {
        "id": "LF3wxx-PT3VB",
        "outputId": "9fa7defe-da67-4f75-8dab-cd243a92d31c",
        "colab": {
          "base_uri": "https://localhost:8080/",
          "height": 356
        }
      },
      "outputs": [
        {
          "output_type": "error",
          "ename": "KeyboardInterrupt",
          "evalue": "Interrupted by user",
          "traceback": [
            "\u001b[0;31m---------------------------------------------------------------------------\u001b[0m",
            "\u001b[0;31mKeyboardInterrupt\u001b[0m                         Traceback (most recent call last)",
            "\u001b[0;32m/tmp/ipython-input-8-13198292.py\u001b[0m in \u001b[0;36m<cell line: 0>\u001b[0;34m()\u001b[0m\n\u001b[1;32m      1\u001b[0m \u001b[0;31m#input fonksiyonu\u001b[0m\u001b[0;34m\u001b[0m\u001b[0;34m\u001b[0m\u001b[0m\n\u001b[1;32m      2\u001b[0m \u001b[0;34m\u001b[0m\u001b[0m\n\u001b[0;32m----> 3\u001b[0;31m \u001b[0misim\u001b[0m \u001b[0;34m=\u001b[0m \u001b[0minput\u001b[0m\u001b[0;34m(\u001b[0m\u001b[0;34m\"İsminiz: \"\u001b[0m\u001b[0;34m)\u001b[0m\u001b[0;34m\u001b[0m\u001b[0;34m\u001b[0m\u001b[0m\n\u001b[0m\u001b[1;32m      4\u001b[0m \u001b[0msoyisim\u001b[0m \u001b[0;34m=\u001b[0m \u001b[0minput\u001b[0m\u001b[0;34m(\u001b[0m\u001b[0;34m\"Soyisim: \"\u001b[0m\u001b[0;34m)\u001b[0m\u001b[0;34m\u001b[0m\u001b[0;34m\u001b[0m\u001b[0m\n\u001b[1;32m      5\u001b[0m \u001b[0myaş\u001b[0m \u001b[0;34m=\u001b[0m \u001b[0mint\u001b[0m\u001b[0;34m(\u001b[0m\u001b[0minput\u001b[0m\u001b[0;34m(\u001b[0m\u001b[0;34m\"Yaşınız: \"\u001b[0m\u001b[0;34m)\u001b[0m\u001b[0;34m)\u001b[0m\u001b[0;34m\u001b[0m\u001b[0;34m\u001b[0m\u001b[0m\n",
            "\u001b[0;32m/usr/local/lib/python3.11/dist-packages/ipykernel/kernelbase.py\u001b[0m in \u001b[0;36mraw_input\u001b[0;34m(self, prompt)\u001b[0m\n\u001b[1;32m   1175\u001b[0m                 \u001b[0;34m\"raw_input was called, but this frontend does not support input requests.\"\u001b[0m\u001b[0;34m\u001b[0m\u001b[0;34m\u001b[0m\u001b[0m\n\u001b[1;32m   1176\u001b[0m             )\n\u001b[0;32m-> 1177\u001b[0;31m         return self._input_request(\n\u001b[0m\u001b[1;32m   1178\u001b[0m             \u001b[0mstr\u001b[0m\u001b[0;34m(\u001b[0m\u001b[0mprompt\u001b[0m\u001b[0;34m)\u001b[0m\u001b[0;34m,\u001b[0m\u001b[0;34m\u001b[0m\u001b[0;34m\u001b[0m\u001b[0m\n\u001b[1;32m   1179\u001b[0m             \u001b[0mself\u001b[0m\u001b[0;34m.\u001b[0m\u001b[0m_parent_ident\u001b[0m\u001b[0;34m[\u001b[0m\u001b[0;34m\"shell\"\u001b[0m\u001b[0;34m]\u001b[0m\u001b[0;34m,\u001b[0m\u001b[0;34m\u001b[0m\u001b[0;34m\u001b[0m\u001b[0m\n",
            "\u001b[0;32m/usr/local/lib/python3.11/dist-packages/ipykernel/kernelbase.py\u001b[0m in \u001b[0;36m_input_request\u001b[0;34m(self, prompt, ident, parent, password)\u001b[0m\n\u001b[1;32m   1217\u001b[0m             \u001b[0;32mexcept\u001b[0m \u001b[0mKeyboardInterrupt\u001b[0m\u001b[0;34m:\u001b[0m\u001b[0;34m\u001b[0m\u001b[0;34m\u001b[0m\u001b[0m\n\u001b[1;32m   1218\u001b[0m                 \u001b[0;31m# re-raise KeyboardInterrupt, to truncate traceback\u001b[0m\u001b[0;34m\u001b[0m\u001b[0;34m\u001b[0m\u001b[0m\n\u001b[0;32m-> 1219\u001b[0;31m                 \u001b[0;32mraise\u001b[0m \u001b[0mKeyboardInterrupt\u001b[0m\u001b[0;34m(\u001b[0m\u001b[0;34m\"Interrupted by user\"\u001b[0m\u001b[0;34m)\u001b[0m \u001b[0;32mfrom\u001b[0m \u001b[0;32mNone\u001b[0m\u001b[0;34m\u001b[0m\u001b[0;34m\u001b[0m\u001b[0m\n\u001b[0m\u001b[1;32m   1220\u001b[0m             \u001b[0;32mexcept\u001b[0m \u001b[0mException\u001b[0m\u001b[0;34m:\u001b[0m\u001b[0;34m\u001b[0m\u001b[0;34m\u001b[0m\u001b[0m\n\u001b[1;32m   1221\u001b[0m                 \u001b[0mself\u001b[0m\u001b[0;34m.\u001b[0m\u001b[0mlog\u001b[0m\u001b[0;34m.\u001b[0m\u001b[0mwarning\u001b[0m\u001b[0;34m(\u001b[0m\u001b[0;34m\"Invalid Message:\"\u001b[0m\u001b[0;34m,\u001b[0m \u001b[0mexc_info\u001b[0m\u001b[0;34m=\u001b[0m\u001b[0;32mTrue\u001b[0m\u001b[0;34m)\u001b[0m\u001b[0;34m\u001b[0m\u001b[0;34m\u001b[0m\u001b[0m\n",
            "\u001b[0;31mKeyboardInterrupt\u001b[0m: Interrupted by user"
          ]
        }
      ],
      "source": [
        "#input fonksiyonu\n",
        "\n",
        "isim = input(\"İsminiz: \")\n",
        "soyisim = input(\"Soyisim: \")\n",
        "yaş = int(input(\"Yaşınız: \"))\n",
        "\n",
        "print(f\"Merhaba {isim} {soyisim}. Daha {yaş} yaşındasın.\")"
      ]
    },
    {
      "cell_type": "markdown",
      "metadata": {
        "id": "Rek5TP-EUw8D"
      },
      "source": [
        "----------------------------------------------------------------------------------------------------------\n",
        "**SÜRPRİZ BÖLÜM**\n",
        "----------------------------------------------------------------------------------------------------------"
      ]
    },
    {
      "cell_type": "code",
      "execution_count": null,
      "metadata": {
        "id": "r8iGYYTuUxpj"
      },
      "outputs": [],
      "source": [
        "import random\n",
        "sayı = random.randint(0,100)\n",
        "hak = int(input(\"kaç hak istersiniz? \"))\n",
        "puangidecek = 100/hak\n",
        "puan =100.0\n",
        "\n",
        "while hak > 0:\n",
        "    print(\" ******************************* \")\n",
        "    print(f\"              {puan}\")\n",
        "    gelensayi = int(input(\"sayı giriniz: \"))\n",
        "    if gelensayi == sayı:\n",
        "        print(\"---KAZANDINIZ---\")\n",
        "        break\n",
        "    elif(hak==1):\n",
        "        print(\"Kaybettiniz!\")\n",
        "        print(sayı)\n",
        "    elif gelensayi> sayı:\n",
        "        puan -= puangidecek\n",
        "        print(\"-azalt-\")\n",
        "    else:\n",
        "        puan -= puangidecek\n",
        "        print(\"-artır-\")\n",
        "\n",
        "    hak -= 1"
      ]
    },
    {
      "cell_type": "markdown",
      "source": [
        "----------------------------------------------------------------------------------------------------------\n",
        "**CLASS YAPISI**\n",
        "----------------------------------------------------------------------------------------------------------"
      ],
      "metadata": {
        "id": "OwIso4Apwld4"
      }
    },
    {
      "cell_type": "code",
      "source": [
        "class Araba:\n",
        "    pass\n",
        "\n",
        "arac = Araba()\n",
        "print(type(arac))\n"
      ],
      "metadata": {
        "colab": {
          "base_uri": "https://localhost:8080/"
        },
        "id": "5uPoGgOuxi4S",
        "outputId": "efd797d5-c5e2-4335-e746-1e381f1ad364"
      },
      "execution_count": 15,
      "outputs": [
        {
          "output_type": "stream",
          "name": "stdout",
          "text": [
            "<class '__main__.Araba'>\n"
          ]
        }
      ]
    },
    {
      "cell_type": "code",
      "source": [
        "#  __init__ Metodu (Constructor)\n",
        "# `self`, sınıf içindeki her özelliğe (değişkene) ve fonksiyona erişmemizi sağlar. Her nesneye özel verilerin takip edilmesini sağlar.\n",
        "\n",
        "class Araba:\n",
        "    def __init__(self, marka, model):\n",
        "        self.marka = marka\n",
        "        self.model = model\n",
        "\n",
        "arac = Araba(\"Toyota\", \"Corolla\")\n",
        "print(arac.marka)\n",
        "print(arac.model)"
      ],
      "metadata": {
        "colab": {
          "base_uri": "https://localhost:8080/"
        },
        "id": "SwXR--EGxymq",
        "outputId": "78c70deb-4114-4dc3-d1d7-be1b436e24e7"
      },
      "execution_count": 16,
      "outputs": [
        {
          "output_type": "stream",
          "name": "stdout",
          "text": [
            "Toyota\n",
            "Corolla\n"
          ]
        }
      ]
    },
    {
      "cell_type": "code",
      "source": [
        "# Sınıf İçinde Fonksiyon Tanımlama\n",
        "\n",
        "class Araba:\n",
        "    def __init__(self, marka, model):\n",
        "        self.marka = marka\n",
        "        self.model = model\n",
        "\n",
        "    def bilgi_ver(self):\n",
        "        print(f\"Araba: {self.marka} {self.model}\")\n",
        "\n",
        "arac = Araba(\"Honda\", \"Civic\")\n",
        "arac.bilgi_ver()"
      ],
      "metadata": {
        "colab": {
          "base_uri": "https://localhost:8080/"
        },
        "id": "hjmdo9zJyNsv",
        "outputId": "0d376ea8-e99c-42b5-deac-34986f46485a"
      },
      "execution_count": 17,
      "outputs": [
        {
          "output_type": "stream",
          "name": "stdout",
          "text": [
            "Araba: Honda Civic\n"
          ]
        }
      ]
    },
    {
      "cell_type": "code",
      "source": [
        "#örnek\n",
        "\n",
        "class Ogrenci:\n",
        "    def __init__(self, ad, numara):\n",
        "        self.ad = ad\n",
        "        self.numara = numara\n",
        "        self.notlar = []\n",
        "\n",
        "    def not_ekle(self, not_):\n",
        "        self.notlar.append(not_)\n",
        "\n",
        "    def ortalama(self):\n",
        "        return sum(self.notlar) / len(self.notlar)\n",
        "\n",
        "ogr1 = Ogrenci(\"Ayşe\", 123)\n",
        "ogr1.not_ekle(90)\n",
        "ogr1.not_ekle(85)\n",
        "\n",
        "print(f\"{ogr1.ad} adlı öğrencinin ortalaması: {ogr1.ortalama()}\")"
      ],
      "metadata": {
        "colab": {
          "base_uri": "https://localhost:8080/"
        },
        "id": "ssgSEwC7yvX7",
        "outputId": "4c0c7655-ab0d-4996-8dc8-82fe046719d8"
      },
      "execution_count": 18,
      "outputs": [
        {
          "output_type": "stream",
          "name": "stdout",
          "text": [
            "Ayşe adlı öğrencinin ortalaması: 87.5\n"
          ]
        }
      ]
    },
    {
      "cell_type": "code",
      "source": [
        "#örnek\n",
        "\n",
        "class KrediBasvurusu:\n",
        "    def __init__(self, isim, maas):\n",
        "        self.isim = isim\n",
        "        self.maas = maas\n",
        "\n",
        "    def kredi_durumu(self):\n",
        "        if self.maas >= 15000:\n",
        "            print(\"Kredi onaylandı.\")\n",
        "        else:\n",
        "            print(\"Kredi reddedildi.\")\n",
        "\n",
        "kisi = KrediBasvurusu(\"Zeynep\", 12000)\n",
        "kisi.kredi_durumu()"
      ],
      "metadata": {
        "colab": {
          "base_uri": "https://localhost:8080/"
        },
        "id": "e615Ttp6zU0j",
        "outputId": "b7c8dd06-7751-4a21-8a8c-a064b3a81915"
      },
      "execution_count": 19,
      "outputs": [
        {
          "output_type": "stream",
          "name": "stdout",
          "text": [
            "Kredi reddedildi.\n"
          ]
        }
      ]
    },
    {
      "cell_type": "markdown",
      "source": [
        "----------------------------------------------------------------------------------------------------------\n",
        "**INHERITANCE - KALITIM**\n",
        "----------------------------------------------------------------------------------------------------------"
      ],
      "metadata": {
        "id": "JdNFOKF30Jb4"
      }
    },
    {
      "cell_type": "code",
      "source": [
        "class Hayvan:\n",
        "    def __init__(self, isim):\n",
        "        self.isim = isim\n",
        "\n",
        "    def tanit(self):\n",
        "        print(f\"Ben bir hayvanım. Adım {self.isim}.\")\n",
        "\n",
        "class Kus(Hayvan):\n",
        "    def uc(self):\n",
        "        print(f\"{self.isim} uçuyor!\")\n",
        "\n",
        "marti = Kus(\"Martı\")\n",
        "marti.tanit()\n",
        "marti.uc()"
      ],
      "metadata": {
        "id": "LcbDb6tD0U4_"
      },
      "execution_count": null,
      "outputs": []
    },
    {
      "cell_type": "code",
      "source": [
        "#overriding\n",
        "\n",
        "class Hayvan:\n",
        "    def ses(self):\n",
        "        print(\"Hayvan sesi\")\n",
        "\n",
        "class Kopek(Hayvan):\n",
        "    def ses(self):\n",
        "        print(\"Hav hav!\")\n",
        "\n",
        "hayvan = Hayvan()\n",
        "kopek = Kopek()\n",
        "\n",
        "hayvan.ses()\n",
        "kopek.ses()"
      ],
      "metadata": {
        "colab": {
          "base_uri": "https://localhost:8080/"
        },
        "id": "75kT2ZoK0mv7",
        "outputId": "50b40483-d0da-43f1-e370-655e87ff658f"
      },
      "execution_count": 9,
      "outputs": [
        {
          "output_type": "stream",
          "name": "stdout",
          "text": [
            "Hayvan sesi\n",
            "Hav hav!\n"
          ]
        }
      ]
    },
    {
      "cell_type": "code",
      "source": [
        "#__str__, print(nesne) ile nesne yazdırıldığında ne gösterileceğini belirler.\n",
        "#__len__, len(nesne) yazıldığında ne değer döneceğini tanımlar.\n",
        "# Peki eğer bunları tanımlamamış olsaydım ???\n",
        "\n",
        "class Kitap:\n",
        "    def __init__(self, ad, sayfa):\n",
        "        self.ad = ad\n",
        "        self.sayfa = sayfa\n",
        "\n",
        "    def __str__(self):\n",
        "        return f\"Kitap: {self.ad}, Sayfa: {self.sayfa}\"\n",
        "\n",
        "    def __len__(self):\n",
        "        return self.sayfa\n",
        "\n",
        "k = Kitap(\"1984\", 328)\n",
        "print(k)\n",
        "print(len(k))"
      ],
      "metadata": {
        "colab": {
          "base_uri": "https://localhost:8080/"
        },
        "id": "8Vm8Be0h26ex",
        "outputId": "758c892a-27cf-42c7-f32a-58071a16d252"
      },
      "execution_count": 23,
      "outputs": [
        {
          "output_type": "stream",
          "name": "stdout",
          "text": [
            "Kitap: 1984, Sayfa: 328\n",
            "328\n"
          ]
        }
      ]
    }
  ],
  "metadata": {
    "colab": {
      "collapsed_sections": [
        "MvHWH_kQq7qy",
        "bPZUo6kqrAQv",
        "F2Wlfk2GhkCA",
        "y6n8ABk3qA2j",
        "d7D-oPf87A1M",
        "G64G9j3dASMc",
        "90D_3IrNGjuN",
        "_Y5rHlGm4-yx",
        "HKuNuBicTUuv",
        "Rek5TP-EUw8D"
      ],
      "provenance": []
    },
    "kernelspec": {
      "display_name": "Python 3.10.7 64-bit (microsoft store)",
      "language": "python",
      "name": "python3"
    },
    "language_info": {
      "name": "python",
      "version": "3.10.7"
    },
    "vscode": {
      "interpreter": {
        "hash": "cf0366930be2a5b3d68fc35279d88a48c9db4998e6a3c35d3cdc95702a206d8d"
      }
    }
  },
  "nbformat": 4,
  "nbformat_minor": 0
}